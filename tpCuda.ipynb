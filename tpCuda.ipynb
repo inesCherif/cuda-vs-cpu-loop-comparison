{
  "nbformat": 4,
  "nbformat_minor": 0,
  "metadata": {
    "colab": {
      "provenance": [],
      "gpuType": "T4",
      "include_colab_link": true
    },
    "kernelspec": {
      "name": "python3",
      "display_name": "Python 3"
    },
    "language_info": {
      "name": "python"
    },
    "accelerator": "GPU"
  },
  "cells": [
    {
      "cell_type": "markdown",
      "metadata": {
        "id": "view-in-github",
        "colab_type": "text"
      },
      "source": [
        "<a href=\"https://colab.research.google.com/github/inesCherif/cuda-vs-cpu-loop-comparison/blob/main/tpCuda.ipynb\" target=\"_parent\"><img src=\"https://colab.research.google.com/assets/colab-badge.svg\" alt=\"Open In Colab\"/></a>"
      ]
    },
    {
      "cell_type": "markdown",
      "source": [
        "# TP : Comparaison entre une boucle CPU et une boucle GPU avec CUDA\n",
        "\n",
        "## 🎯 Objectif :\n",
        "- Se familiariser avec l'exécution de programmes CUDA dans Google Colab.\n",
        "- Comparer une implémentation séquentielle (CPU) et une implémentation parallèle (GPU) pour une opération simple : incrémenter les éléments d’un tableau.\n",
        "\n",
        "---"
      ],
      "metadata": {
        "id": "w2e4r3h8LQ8C"
      }
    },
    {
      "cell_type": "markdown",
      "source": [
        "## 🧠 Introduction\n",
        "\n",
        "Lorsqu'on travaille avec de grands volumes de données, l'exécution séquentielle sur le processeur (CPU) peut devenir lente. CUDA (Compute Unified Device Architecture) permet d'exécuter des programmes sur la carte graphique (GPU), en exploitant **le parallélisme massif** du GPU.\n",
        "\n",
        "Dans ce TP, on compare :\n",
        "\n",
        "- Un programme classique en **C**, utilisant une boucle `for` sur CPU.\n",
        "- Une version **CUDA**, utilisant des threads pour faire le même travail **en parallèle** sur GPU.\n",
        "\n",
        "L'opération effectuée : **incrémenter chaque élément d’un tableau de 5 entiers.**\n"
      ],
      "metadata": {
        "id": "QuDZYLQLMSLy"
      }
    },
    {
      "cell_type": "markdown",
      "source": [
        "# **Configuration de l'envirennement CUDA sur google colab**"
      ],
      "metadata": {
        "id": "lYGsQ-o3Ldcd"
      }
    },
    {
      "cell_type": "code",
      "execution_count": null,
      "metadata": {
        "colab": {
          "base_uri": "https://localhost:8080/"
        },
        "collapsed": true,
        "id": "GJv1Wfr7HbJ5",
        "outputId": "8c02dcc2-e3eb-4764-9e46-d563189733db"
      },
      "outputs": [
        {
          "output_type": "stream",
          "name": "stdout",
          "text": [
            "\r0% [Working]\r            \rGet:1 https://developer.download.nvidia.com/compute/cuda/repos/ubuntu2204/x86_64  InRelease [1,581 B]\n",
            "Get:2 https://cloud.r-project.org/bin/linux/ubuntu jammy-cran40/ InRelease [3,632 B]\n",
            "Get:3 https://developer.download.nvidia.com/compute/cuda/repos/ubuntu2204/x86_64  Packages [1,381 kB]\n",
            "Get:4 http://security.ubuntu.com/ubuntu jammy-security InRelease [129 kB]\n",
            "Hit:5 http://archive.ubuntu.com/ubuntu jammy InRelease\n",
            "Get:6 http://archive.ubuntu.com/ubuntu jammy-updates InRelease [128 kB]\n",
            "Hit:7 https://ppa.launchpadcontent.net/deadsnakes/ppa/ubuntu jammy InRelease\n",
            "Get:8 https://r2u.stat.illinois.edu/ubuntu jammy InRelease [6,555 B]\n",
            "Hit:9 https://ppa.launchpadcontent.net/graphics-drivers/ppa/ubuntu jammy InRelease\n",
            "Get:10 http://security.ubuntu.com/ubuntu jammy-security/main amd64 Packages [2,775 kB]\n",
            "Hit:11 https://ppa.launchpadcontent.net/ubuntugis/ppa/ubuntu jammy InRelease\n",
            "Get:12 https://r2u.stat.illinois.edu/ubuntu jammy/main all Packages [8,812 kB]\n",
            "Get:13 http://archive.ubuntu.com/ubuntu jammy-backports InRelease [127 kB]\n",
            "Get:14 http://security.ubuntu.com/ubuntu jammy-security/universe amd64 Packages [1,241 kB]\n",
            "Get:15 http://archive.ubuntu.com/ubuntu jammy-updates/main amd64 Packages [3,092 kB]\n",
            "Get:16 http://security.ubuntu.com/ubuntu jammy-security/restricted amd64 Packages [3,978 kB]\n",
            "Get:17 http://archive.ubuntu.com/ubuntu jammy-updates/restricted amd64 Packages [4,148 kB]\n",
            "Get:18 http://archive.ubuntu.com/ubuntu jammy-updates/universe amd64 Packages [1,540 kB]\n",
            "Get:19 https://r2u.stat.illinois.edu/ubuntu jammy/main amd64 Packages [2,686 kB]\n",
            "Fetched 30.0 MB in 5s (6,489 kB/s)\n",
            "Reading package lists... Done\n",
            "W: Skipping acquire of configured file 'main/source/Sources' as repository 'https://r2u.stat.illinois.edu/ubuntu jammy InRelease' does not seem to provide it (sources.list entry misspelt?)\n",
            "Reading package lists... Done\n",
            "Building dependency tree... Done\n",
            "Reading state information... Done\n",
            "E: Unable to locate package cuda-11-2\n"
          ]
        }
      ],
      "source": [
        "!apt-get update\n",
        "!apt-get install cuda-11-2"
      ]
    },
    {
      "cell_type": "code",
      "source": [
        "!nvcc --version\n",
        "!nvidia-smi"
      ],
      "metadata": {
        "colab": {
          "base_uri": "https://localhost:8080/"
        },
        "collapsed": true,
        "id": "CQ18Ze6UHnK2",
        "outputId": "ca7716bf-f82c-4ed8-df1b-a6a56467a1db"
      },
      "execution_count": null,
      "outputs": [
        {
          "output_type": "stream",
          "name": "stdout",
          "text": [
            "nvcc: NVIDIA (R) Cuda compiler driver\n",
            "Copyright (c) 2005-2024 NVIDIA Corporation\n",
            "Built on Thu_Jun__6_02:18:23_PDT_2024\n",
            "Cuda compilation tools, release 12.5, V12.5.82\n",
            "Build cuda_12.5.r12.5/compiler.34385749_0\n",
            "Fri Apr  4 18:48:24 2025       \n",
            "+-----------------------------------------------------------------------------------------+\n",
            "| NVIDIA-SMI 550.54.15              Driver Version: 550.54.15      CUDA Version: 12.4     |\n",
            "|-----------------------------------------+------------------------+----------------------+\n",
            "| GPU  Name                 Persistence-M | Bus-Id          Disp.A | Volatile Uncorr. ECC |\n",
            "| Fan  Temp   Perf          Pwr:Usage/Cap |           Memory-Usage | GPU-Util  Compute M. |\n",
            "|                                         |                        |               MIG M. |\n",
            "|=========================================+========================+======================|\n",
            "|   0  Tesla T4                       Off |   00000000:00:04.0 Off |                    0 |\n",
            "| N/A   42C    P8             11W /   70W |       0MiB /  15360MiB |      0%      Default |\n",
            "|                                         |                        |                  N/A |\n",
            "+-----------------------------------------+------------------------+----------------------+\n",
            "                                                                                         \n",
            "+-----------------------------------------------------------------------------------------+\n",
            "| Processes:                                                                              |\n",
            "|  GPU   GI   CI        PID   Type   Process name                              GPU Memory |\n",
            "|        ID   ID                                                               Usage      |\n",
            "|=========================================================================================|\n",
            "|  No running processes found                                                             |\n",
            "+-----------------------------------------------------------------------------------------+\n"
          ]
        }
      ]
    },
    {
      "cell_type": "code",
      "source": [
        "%%writefile vector_add.cu\n",
        "#include <iostream>\n",
        "#include <cuda_runtime.h>\n",
        "\n",
        "#define N 5  // Nombre d'éléments\n",
        "\n",
        "__global__ void addVectors(int *a, int *b, int *c) {\n",
        "    int index = threadIdx.x;\n",
        "    c[index] = a[index] + b[index];\n",
        "}\n",
        "\n",
        "int main() {\n",
        "    int h_a[N] = {1, 2, 3, 4, 5};\n",
        "    int h_b[N] = {10, 20, 30, 40, 50};\n",
        "    int h_c[N] = {0};\n",
        "\n",
        "    int *d_a, *d_b, *d_c;\n",
        "\n",
        "    // Allocation de la mémoire sur le GPU\n",
        "    cudaMalloc((void**)&d_a, N * sizeof(int));\n",
        "    cudaMalloc((void**)&d_b, N * sizeof(int));\n",
        "    cudaMalloc((void**)&d_c, N * sizeof(int));\n",
        "\n",
        "    // Copier les tableaux d'entrée du host vers le device\n",
        "    cudaMemcpy(d_a, h_a, N * sizeof(int), cudaMemcpyHostToDevice);\n",
        "    cudaMemcpy(d_b, h_b, N * sizeof(int), cudaMemcpyHostToDevice);\n",
        "\n",
        "    // Lancer le noyau\n",
        "    addVectors<<<1, N>>>(d_a, d_b, d_c);\n",
        "\n",
        "    // Copier le résultat du device vers le host\n",
        "    cudaMemcpy(h_c, d_c, N * sizeof(int), cudaMemcpyDeviceToHost);\n",
        "\n",
        "    // Afficher les résultats\n",
        "    std::cout << \"Résultat de l'addition de vecteurs : \";\n",
        "    for (int i = 0; i < N; i++) {\n",
        "        std::cout << h_c[i] << \" \";\n",
        "    }\n",
        "    std::cout << std::endl;\n",
        "\n",
        "    // Libérer la mémoire sur le GPU\n",
        "    cudaFree(d_a);\n",
        "    cudaFree(d_b);\n",
        "    cudaFree(d_c);\n",
        "\n",
        "    return 0;\n",
        "}"
      ],
      "metadata": {
        "colab": {
          "base_uri": "https://localhost:8080/"
        },
        "id": "jYgiAZvTIhFw",
        "outputId": "3e433cb5-0a54-4008-d585-aabe8ca8ff2a"
      },
      "execution_count": null,
      "outputs": [
        {
          "output_type": "stream",
          "name": "stdout",
          "text": [
            "Overwriting vector_add.cu\n"
          ]
        }
      ]
    },
    {
      "cell_type": "code",
      "source": [
        "!nvcc -arch=sm_75 -o vector_add vector_add.cu"
      ],
      "metadata": {
        "id": "jU11Me-wIlNd"
      },
      "execution_count": null,
      "outputs": []
    },
    {
      "cell_type": "code",
      "source": [
        "!./vector_add"
      ],
      "metadata": {
        "colab": {
          "base_uri": "https://localhost:8080/"
        },
        "id": "bo0i6UB9I0J7",
        "outputId": "9c728041-64b3-4b0d-b57e-8b5c9b685c32"
      },
      "execution_count": null,
      "outputs": [
        {
          "output_type": "stream",
          "name": "stdout",
          "text": [
            "Résultat de l'addition de vecteurs : 11 22 33 44 55 \n"
          ]
        }
      ]
    },
    {
      "cell_type": "markdown",
      "source": [
        "# **Réalisation TP**"
      ],
      "metadata": {
        "id": "08K_fAqrJk5o"
      }
    },
    {
      "cell_type": "markdown",
      "source": [
        "## **🔹Version CPU (incrémentation séquentielle)**"
      ],
      "metadata": {
        "id": "hspkFg5PJwLA"
      }
    },
    {
      "cell_type": "code",
      "source": [
        "%%writefile increment_cpu.cpp\n",
        "#include <iostream>\n",
        "#define N 5\n",
        "\n",
        "void increment_cpu(int *a, int n) {\n",
        "    for (int i = 0; i < n; i++) {\n",
        "        a[i] = a[i] + 1;\n",
        "    }\n",
        "}\n",
        "\n",
        "int main() {\n",
        "    int a[N] = {1, 2, 3, 4, 5};\n",
        "\n",
        "    increment_cpu(a, N);\n",
        "\n",
        "    std::cout << \"Résultat CPU : \";\n",
        "    for (int i = 0; i < N; i++) {\n",
        "        std::cout << a[i] << \" \";\n",
        "    }\n",
        "    std::cout << std::endl;\n",
        "\n",
        "    return 0;\n",
        "}"
      ],
      "metadata": {
        "colab": {
          "base_uri": "https://localhost:8080/"
        },
        "id": "vbtQILyNJy5x",
        "outputId": "be066363-9341-46e8-fca2-5077683e81d0"
      },
      "execution_count": null,
      "outputs": [
        {
          "output_type": "stream",
          "name": "stdout",
          "text": [
            "Writing increment_cpu.cpp\n"
          ]
        }
      ]
    },
    {
      "cell_type": "markdown",
      "source": [
        "### Compilation + Exécution (CPU)"
      ],
      "metadata": {
        "id": "0aEDkWm6J3AY"
      }
    },
    {
      "cell_type": "code",
      "source": [
        "!g++ increment_cpu.cpp -o increment_cpu\n",
        "!./increment_cpu"
      ],
      "metadata": {
        "colab": {
          "base_uri": "https://localhost:8080/"
        },
        "id": "QCjWJUVlJ-ZE",
        "outputId": "54d0cbc5-5576-45ec-8bbd-745f774603ce"
      },
      "execution_count": null,
      "outputs": [
        {
          "output_type": "stream",
          "name": "stdout",
          "text": [
            "Résultat CPU : 2 3 4 5 6 \n"
          ]
        }
      ]
    },
    {
      "cell_type": "markdown",
      "source": [
        "### 🔍 Explication du code CPU\n",
        "\n",
        "- `increment_cpu` est une fonction qui prend un tableau `a` et l’incrémente élément par élément avec une boucle `for`.\n",
        "- L’exécution se fait **de manière séquentielle** : un seul cœur de CPU traite tous les éléments un par un.\n",
        "- Le tableau final affiché est : `2 3 4 5 6`"
      ],
      "metadata": {
        "id": "6AHl2YaUMoFc"
      }
    },
    {
      "cell_type": "markdown",
      "source": [
        "## 🔹**Version GPU (CUDA – traitement parallèle)**"
      ],
      "metadata": {
        "id": "T8lv_G47KQUQ"
      }
    },
    {
      "cell_type": "code",
      "source": [
        "%%writefile increment_gpu.cu\n",
        "#include <iostream>\n",
        "#include <cuda_runtime.h>\n",
        "\n",
        "#define N 5\n",
        "\n",
        "__global__ void increment_gpu(int *a, int n) {\n",
        "    int i = threadIdx.x;\n",
        "    if (i < n) {\n",
        "        a[i] = a[i] + 1;\n",
        "    }\n",
        "}\n",
        "\n",
        "int main() {\n",
        "    int h_a[N] = {1, 2, 3, 4, 5};\n",
        "    int *d_a;\n",
        "\n",
        "    cudaMalloc((void**)&d_a, N * sizeof(int));\n",
        "    cudaMemcpy(d_a, h_a, N * sizeof(int), cudaMemcpyHostToDevice);\n",
        "\n",
        "    increment_gpu<<<1, N>>>(d_a, N);\n",
        "\n",
        "    cudaMemcpy(h_a, d_a, N * sizeof(int), cudaMemcpyDeviceToHost);\n",
        "\n",
        "    std::cout << \"Résultat GPU : \";\n",
        "    for (int i = 0; i < N; i++) {\n",
        "        std::cout << h_a[i] << \" \";\n",
        "    }\n",
        "    std::cout << std::endl;\n",
        "\n",
        "    cudaFree(d_a);\n",
        "    return 0;\n",
        "}"
      ],
      "metadata": {
        "colab": {
          "base_uri": "https://localhost:8080/"
        },
        "id": "YrfrArG1KSlz",
        "outputId": "69945ea9-1b32-4979-b290-004274281530"
      },
      "execution_count": null,
      "outputs": [
        {
          "output_type": "stream",
          "name": "stdout",
          "text": [
            "Writing increment_gpu.cu\n"
          ]
        }
      ]
    },
    {
      "cell_type": "markdown",
      "source": [
        "### Compilation + Exécution (GPU)"
      ],
      "metadata": {
        "id": "o3d7mRCbKWwZ"
      }
    },
    {
      "cell_type": "code",
      "source": [
        "!nvcc -arch=sm_75 -o increment_gpu increment_gpu.cu\n",
        "!./increment_gpu"
      ],
      "metadata": {
        "colab": {
          "base_uri": "https://localhost:8080/"
        },
        "id": "Uf1BWmqSKWfy",
        "outputId": "1a7923fa-f1df-4e92-e961-cc9869890485"
      },
      "execution_count": null,
      "outputs": [
        {
          "output_type": "stream",
          "name": "stdout",
          "text": [
            "Résultat GPU : 2 3 4 5 6 \n"
          ]
        }
      ]
    },
    {
      "cell_type": "markdown",
      "source": [
        "### ⚡ Explication du code GPU\n",
        "\n",
        "- La fonction `increment_gpu` est une fonction spéciale CUDA (noyau) marquée par `__global__`.\n",
        "- Chaque **thread** prend un index `i` et incrémente un seul élément du tableau.\n",
        "- On exécute `N` threads en parallèle : un pour chaque élément du tableau.\n",
        "- Résultat affiché : `2 3 4 5 6`, identique à la version CPU, mais traitement fait **en parallèle**.\n"
      ],
      "metadata": {
        "id": "Y4WEi7iLM9r6"
      }
    },
    {
      "cell_type": "markdown",
      "source": [
        "## ⚖️ **Comparaison entre CPU et GPU**\n",
        "\n",
        "| Aspect               | Version CPU (C)           | Version GPU (CUDA)                      |\n",
        "|----------------------|---------------------------|------------------------------------------|\n",
        "| Type d’exécution     | Séquentielle              | Parallèle (multi-thread)                |\n",
        "| Syntaxe              | `for` classique           | `__global__` avec `threadIdx.x`         |\n",
        "| Résultat             | Identique                 | Identique                               |\n",
        "| Rapidité             | Suffisante pour petits N  | Optimale pour grands N                  |\n",
        "| Complexité du code   | Simple                    | Plus complexe (gestion mémoire CUDA)    |\n",
        "\n",
        "## 🧩 Conclusion\n",
        "\n",
        "Même si les deux codes donnent le **même résultat**, la version GPU est plus adaptée aux **opérations lourdes et massives**. Ce TP montre comment CUDA permet de paralléliser des tâches répétitives, en exploitant la puissance du GPU."
      ],
      "metadata": {
        "id": "BXiWBeOHNHfX"
      }
    }
  ]
}